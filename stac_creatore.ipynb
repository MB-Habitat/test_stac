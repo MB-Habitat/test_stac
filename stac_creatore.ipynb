{
 "cells": [
  {
   "cell_type": "code",
   "execution_count": 59,
   "metadata": {},
   "outputs": [],
   "source": [
    "##########################\n",
    "# Load the libraries\n",
    "##########################\n",
    "\n",
    "from osgeo import gdal\n",
    "import pystac\n",
    "import subprocess\n",
    "import rasterio\n",
    "import imageio\n",
    "from shapely.geometry import Polygon, mapping\n",
    "from shapely.geometry import shape\n",
    "\n",
    "import datetime\n",
    "import os\n",
    "import json\n",
    "import urllib\n",
    "import numpy as np\n",
    "import pandas as pd\n",
    "import matplotlib.pyplot as plt"
   ]
  },
  {
   "cell_type": "markdown",
   "metadata": {},
   "source": [
    "## Function"
   ]
  },
  {
   "cell_type": "code",
   "execution_count": 60,
   "metadata": {},
   "outputs": [],
   "source": [
    "def print_json(jsonFile):\n",
    "    print(json.dumps(jsonFile, indent=2))"
   ]
  },
  {
   "cell_type": "code",
   "execution_count": 18,
   "metadata": {},
   "outputs": [],
   "source": [
    "def get_bbox_and_footprint(raster):\n",
    "    with rasterio.open(raster) as r:\n",
    "        bounds = r.bounds\n",
    "        bbox = [bounds.left, bounds.bottom, bounds.right, bounds.top]\n",
    "        footprint = Polygon([\n",
    "            [bounds.left, bounds.bottom],\n",
    "            [bounds.left, bounds.top],\n",
    "            [bounds.right, bounds.bottom],\n",
    "            [bounds.right, bounds.top]\n",
    "        ])\n",
    "        \n",
    "    return(bbox, mapping(footprint))"
   ]
  },
  {
   "cell_type": "markdown",
   "metadata": {},
   "source": [
    "## STAC Catlog"
   ]
  },
  {
   "cell_type": "code",
   "execution_count": 61,
   "metadata": {},
   "outputs": [],
   "source": [
    "###############\n",
    "# The file name \n",
    "###############\n",
    "file_name = \"utilisation_territoire_2020_cog.tif\""
   ]
  },
  {
   "cell_type": "code",
   "execution_count": 62,
   "metadata": {},
   "outputs": [
    {
     "name": "stdout",
     "output_type": "stream",
     "text": [
      "{\n",
      "  \"type\": \"Catalog\",\n",
      "  \"id\": \"land-use\",\n",
      "  \"stac_version\": \"1.0.0\",\n",
      "  \"description\": \"QGIS STAC API browser extension\",\n",
      "  \"links\": []\n",
      "}\n"
     ]
    }
   ],
   "source": [
    "##########################\n",
    "# Define the root catalog\n",
    "##########################\n",
    "root_catalog = pystac.Catalog(\n",
    "    id=\"land-use\",\n",
    "    description=\"QGIS STAC API browser extension\"\n",
    ")\n",
    "\n",
    "print_json(root_catalog.to_dict())"
   ]
  },
  {
   "cell_type": "code",
   "execution_count": 63,
   "metadata": {},
   "outputs": [
    {
     "name": "stdout",
     "output_type": "stream",
     "text": [
      "{\n",
      "  \"type\": \"Feature\",\n",
      "  \"stac_version\": \"1.0.0\",\n",
      "  \"id\": \"utilisation_territoire_2020\",\n",
      "  \"properties\": {\n",
      "    \"datetime\": \"2020-01-01T00:00:00Z\"\n",
      "  },\n",
      "  \"geometry\": {\n",
      "    \"type\": \"Polygon\",\n",
      "    \"coordinates\": [\n",
      "      [\n",
      "        [\n",
      "          -830370.0,\n",
      "          117960.0\n",
      "        ],\n",
      "        [\n",
      "          -830370.0,\n",
      "          2091060.0\n",
      "        ],\n",
      "        [\n",
      "          787470.0,\n",
      "          117960.0\n",
      "        ],\n",
      "        [\n",
      "          787470.0,\n",
      "          2091060.0\n",
      "        ],\n",
      "        [\n",
      "          -830370.0,\n",
      "          117960.0\n",
      "        ]\n",
      "      ]\n",
      "    ]\n",
      "  },\n",
      "  \"links\": [],\n",
      "  \"assets\": {},\n",
      "  \"bbox\": [\n",
      "    -830370.0,\n",
      "    117960.0,\n",
      "    787470.0,\n",
      "    2091060.0\n",
      "  ],\n",
      "  \"stac_extensions\": []\n",
      "}\n"
     ]
    }
   ],
   "source": [
    "#############################\n",
    "# Define Items and attributes\n",
    "#############################\n",
    "bbox, footprint = get_bbox_and_footprint(file_name)\n",
    "item_ut_2020 = pystac.Item(\n",
    "    id=\"utilisation_territoire_2020\",\n",
    "    geometry=footprint,\n",
    "    bbox=bbox,\n",
    "    datetime=datetime.datetime(2020,1,1),\n",
    "    properties={}\n",
    ")\n",
    "\n",
    "print_json(item_ut_2020.to_dict())"
   ]
  },
  {
   "cell_type": "code",
   "execution_count": 72,
   "metadata": {},
   "outputs": [],
   "source": [
    "#####################################\n",
    "# Add asset to item\n",
    "#####################################\n",
    "asset = pystac.Asset(\n",
    "    href=file_name,\n",
    "    media_type=pystac.MediaType.COG\n",
    ")\n",
    "\n",
    "item_ut_2020.add_asset(\"image\", asset)"
   ]
  },
  {
   "cell_type": "code",
   "execution_count": 67,
   "metadata": {},
   "outputs": [
    {
     "name": "stdout",
     "output_type": "stream",
     "text": [
      "{\n",
      "  \"spatial\": {\n",
      "    \"bbox\": [\n",
      "      [\n",
      "        -830370.0,\n",
      "        117960.0,\n",
      "        787470.0,\n",
      "        2091060.0\n",
      "      ]\n",
      "    ]\n",
      "  },\n",
      "  \"temporal\": {\n",
      "    \"interval\": [\n",
      "      [\n",
      "        \"2012-01-01T00:00:00Z\",\n",
      "        \"2020-01-01T00:00:00Z\"\n",
      "      ]\n",
      "    ]\n",
      "  }\n",
      "}\n"
     ]
    }
   ],
   "source": [
    "#####################################\n",
    "# Define spatial and temporal extents\n",
    "#####################################\n",
    "qc_spatial_extent = pystac.SpatialExtent(bboxes=[bbox])\n",
    "qc_temporal_extent = pystac.TemporalExtent(intervals=[(datetime.datetime(2012, 1, 1), datetime.datetime(2020, 1, 1))])\n",
    "qc_extent = pystac.Extent(spatial=qc_spatial_extent, temporal=qc_temporal_extent)\n",
    "\n",
    "print_json(qc_extent.to_dict())"
   ]
  },
  {
   "cell_type": "code",
   "execution_count": 69,
   "metadata": {},
   "outputs": [
    {
     "name": "stdout",
     "output_type": "stream",
     "text": [
      "{\n",
      "  \"type\": \"Collection\",\n",
      "  \"id\": \"qc\",\n",
      "  \"stac_version\": \"1.0.0\",\n",
      "  \"description\": \"land-use for province of Quebec\",\n",
      "  \"links\": [],\n",
      "  \"extent\": {\n",
      "    \"spatial\": {\n",
      "      \"bbox\": [\n",
      "        [\n",
      "          -830370.0,\n",
      "          117960.0,\n",
      "          787470.0,\n",
      "          2091060.0\n",
      "        ]\n",
      "      ]\n",
      "    },\n",
      "    \"temporal\": {\n",
      "      \"interval\": [\n",
      "        [\n",
      "          \"2012-01-01T00:00:00Z\",\n",
      "          \"2020-01-01T00:00:00Z\"\n",
      "        ]\n",
      "      ]\n",
      "    }\n",
      "  },\n",
      "  \"license\": \"proprietary\"\n",
      "}\n"
     ]
    }
   ],
   "source": [
    "####################\n",
    "# Create collection\n",
    "####################\n",
    "qc_collection = pystac.Collection(\n",
    "    id='qc',\n",
    "    description=\"land-use for province of Quebec\",\n",
    "    extent=qc_extent\n",
    ")\n",
    "print_json(qc_collection.to_dict())"
   ]
  },
  {
   "cell_type": "code",
   "execution_count": 73,
   "metadata": {},
   "outputs": [
    {
     "data": {
      "text/html": [
       "&lt;Link rel=item target=&lt;Item id=utilisation_territoire_2020&gt;&gt;"
      ],
      "text/plain": [
       "<Link rel=item target=<Item id=utilisation_territoire_2020>>"
      ]
     },
     "execution_count": 73,
     "metadata": {},
     "output_type": "execute_result"
    }
   ],
   "source": [
    "#############################\n",
    "# Add items to collection\n",
    "#############################\n",
    "qc_collection.add_item(item_ut_2020)"
   ]
  },
  {
   "cell_type": "code",
   "execution_count": 74,
   "metadata": {},
   "outputs": [
    {
     "data": {
      "text/html": [
       "&lt;Link rel=child target=&lt;Collection id=qc&gt;&gt;"
      ],
      "text/plain": [
       "<Link rel=child target=<Collection id=qc>>"
      ]
     },
     "execution_count": 74,
     "metadata": {},
     "output_type": "execute_result"
    }
   ],
   "source": [
    "#####################################\n",
    "# Add collections to the root catalog\n",
    "#####################################\n",
    "root_catalog.add_child(qc_collection)"
   ]
  },
  {
   "cell_type": "code",
   "execution_count": 75,
   "metadata": {},
   "outputs": [
    {
     "data": {
      "text/plain": [
       "{'type': 'Feature',\n",
       " 'stac_version': '1.0.0',\n",
       " 'id': 'utilisation_territoire_2020',\n",
       " 'properties': {'datetime': '2020-01-01T00:00:00Z'},\n",
       " 'geometry': {'type': 'Polygon',\n",
       "  'coordinates': (((-830370.0, 117960.0),\n",
       "    (-830370.0, 2091060.0),\n",
       "    (787470.0, 117960.0),\n",
       "    (787470.0, 2091060.0),\n",
       "    (-830370.0, 117960.0)),)},\n",
       " 'links': [{'rel': 'root', 'href': None, 'type': 'application/json'},\n",
       "  {'rel': 'parent', 'href': None, 'type': 'application/json'},\n",
       "  {'rel': 'collection', 'href': None, 'type': 'application/json'}],\n",
       " 'assets': {'image': {'href': 'utilisation_territoire_2020_cog.tif',\n",
       "   'type': image/tiff; application=geotiff; profile=cloud-optimized}},\n",
       " 'bbox': [-830370.0, 117960.0, 787470.0, 2091060.0],\n",
       " 'stac_extensions': [],\n",
       " 'collection': 'qc'}"
      ]
     },
     "execution_count": 75,
     "metadata": {},
     "output_type": "execute_result"
    }
   ],
   "source": [
    "item_ut_2020.to_dict()"
   ]
  },
  {
   "cell_type": "code",
   "execution_count": 77,
   "metadata": {},
   "outputs": [
    {
     "data": {
      "text/plain": [
       "'c:\\\\Users\\\\mustapha.bouhsen\\\\OneDrive - Habitat\\\\Bureau\\\\Projects\\\\stac_qgis'"
      ]
     },
     "execution_count": 77,
     "metadata": {},
     "output_type": "execute_result"
    }
   ],
   "source": [
    "os.getcwd()"
   ]
  },
  {
   "cell_type": "code",
   "execution_count": 82,
   "metadata": {},
   "outputs": [],
   "source": [
    "root_catalog.normalize_and_save(root_href=os.path.join(os.getcwd(), 'land-use'), \n",
    "                           catalog_type=pystac.CatalogType.SELF_CONTAINED)"
   ]
  },
  {
   "cell_type": "code",
   "execution_count": null,
   "metadata": {},
   "outputs": [],
   "source": []
  }
 ],
 "metadata": {
  "kernelspec": {
   "display_name": "base",
   "language": "python",
   "name": "python3"
  },
  "language_info": {
   "codemirror_mode": {
    "name": "ipython",
    "version": 3
   },
   "file_extension": ".py",
   "mimetype": "text/x-python",
   "name": "python",
   "nbconvert_exporter": "python",
   "pygments_lexer": "ipython3",
   "version": "3.12.3"
  }
 },
 "nbformat": 4,
 "nbformat_minor": 2
}
